{
 "cells": [
  {
   "cell_type": "code",
   "execution_count": 145,
   "id": "495fbfd7",
   "metadata": {},
   "outputs": [],
   "source": [
    "import random \n",
    "import numpy as np \n",
    "import matplotlib.pyplot as plt\n",
    "from matplotlib.animation import FuncAnimation"
   ]
  },
  {
   "cell_type": "code",
   "execution_count": 153,
   "id": "883104d7",
   "metadata": {},
   "outputs": [
    {
     "name": "stderr",
     "output_type": "stream",
     "text": [
      "<ipython-input-153-65f7b5b2f121>:14: RuntimeWarning: overflow encountered in double_scalars\n",
      "  return np.exp(-dE/T)\n"
     ]
    },
    {
     "data": {
      "image/png": "[encoded data removed]",
      "text/plain": [
       "<Figure size 432x288 with 1 Axes>"
      ]
     },
     "metadata": {
      "needs_background": "light"
     },
     "output_type": "display_data"
    }
   ],
   "source": [
    "fig, ax = plt.subplots()\n",
    "lower_bound = -1.5 \n",
    "upper_bound = 1.5 \n",
    "X = np.arange(lower_bound , upper_bound , .01)\n",
    "def obj(x):\n",
    "    return x**7 -3*x**3 + 2*x -x**5 + .2*x**6\n",
    "#     return x**2\n",
    "\n",
    "temp = []\n",
    "objective = []\n",
    "\n",
    "# E is energy -> cost function \n",
    "def boltzmann_prob(dE,T):\n",
    "    return np.exp(-dE/T)\n",
    "def get_neighbours(x):\n",
    "    axis = list(X)\n",
    "    idx = axis.index(x)\n",
    "    if (idx + 2 <= len(axis)) and ( idx - 2 >= 0):  \n",
    "        return axis[idx-2:idx+2]\n",
    "    elif idx + 2 > len(axis):\n",
    "        return axis[-5:-1]\n",
    "    else:\n",
    "        return axis[0:5]\n",
    "def optimize():\n",
    "    global temp , objective\n",
    "    # parameters \n",
    "    alpha  = .8 # cooling rate (geometric reduction rule)\n",
    "    T      =  500\n",
    "    iterations = 4000\n",
    "    x_i  = random.choice(X)\n",
    "    X_i=[]\n",
    "    for i in range(iterations):\n",
    "        neighbours = get_neighbours(x_i)\n",
    "        random_neighbour = random.choice(neighbours)\n",
    "        obj_i = obj(x_i)\n",
    "        obj_neighbour = obj(random_neighbour)\n",
    "        if(obj_neighbour <= obj_i):\n",
    "            x_i = random_neighbour \n",
    "        else:\n",
    "            dE = obj_neighbour - obj_i\n",
    "            P = boltzmann_prob(dE , T)\n",
    "            r = random.uniform(0,1)\n",
    "            if (r < P):\n",
    "                x_i = random_neighbour\n",
    "        objective.append(obj_i)\n",
    "        X_i.append(x_i)\n",
    "        temp.append(T)\n",
    "        T = alpha * T\n",
    "    return X_i \n",
    "Xi = optimize()\n",
    "def get_x(i):\n",
    "    return Xi[i]\n",
    "\n",
    "point, = ax.plot(x_i , obj(x_i) , marker=\"o\")\n",
    "ax.plot(X , obj(X))\n",
    "plt.grid()\n",
    "\n",
    "def update(i):\n",
    "    x = get_x(i)\n",
    "    y = obj(x)\n",
    "    point.set_data([x],[y])\n",
    "    return point,\n",
    "\n",
    "ani = FuncAnimation(fig, update, interval=10, blit=True, repeat=True , frames = list(range(iterations)))"
   ]
  },
  {
   "cell_type": "code",
   "execution_count": 149,
   "id": "6c0f9cc7",
   "metadata": {},
   "outputs": [
    {
     "name": "stdout",
     "output_type": "stream",
     "text": [
      "1e-323\n"
     ]
    },
    {
     "data": {
      "image/png": "[encoded data removed]",
      "text/plain": [
       "<Figure size 432x288 with 1 Axes>"
      ]
     },
     "metadata": {
      "needs_background": "light"
     },
     "output_type": "display_data"
    }
   ],
   "source": [
    "it = list(range(iterations))\n",
    "plt.plot(it , temp)\n",
    "print(temp[-1])"
   ]
  },
  {
   "cell_type": "code",
   "execution_count": 141,
   "id": "8d7ad751",
   "metadata": {},
   "outputs": [
    {
     "data": {
      "text/plain": [
       "[<matplotlib.lines.Line2D at 0x7fa7d7c030a0>]"
      ]
     },
     "execution_count": 141,
     "metadata": {},
     "output_type": "execute_result"
    },
    {
     "data": {
      "image/png": "[encoded data removed]",
      "text/plain": [
       "<Figure size 432x288 with 1 Axes>"
      ]
     },
     "metadata": {
      "needs_background": "light"
     },
     "output_type": "display_data"
    }
   ],
   "source": [
    "plt.plot(it , objective)"
   ]
  },
  {
   "cell_type": "code",
   "execution_count": null,
   "id": "396b9b01",
   "metadata": {},
   "outputs": [],
   "source": []
  },
  {
   "cell_type": "code",
   "execution_count": null,
   "id": "ede486ca",
   "metadata": {},
   "outputs": [],
   "source": []
  }
 ],
 "metadata": {
  "kernelspec": {
   "display_name": "Python 3",
   "language": "python",
   "name": "python3"
  },
  "language_info": {
   "codemirror_mode": {
    "name": "ipython",
    "version": 3
   },
   "file_extension": ".py",
   "mimetype": "text/x-python",
   "name": "python",
   "nbconvert_exporter": "python",
   "pygments_lexer": "ipython3",
   "version": "3.10.7"
  }
 },
 "nbformat": 4,
 "nbformat_minor": 5
}
